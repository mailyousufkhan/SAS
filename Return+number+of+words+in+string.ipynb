{
 "cells": [
  {
   "cell_type": "code",
   "execution_count": 1,
   "metadata": {},
   "outputs": [
    {
     "name": "stdout",
     "output_type": "stream",
     "text": [
      "SAS Connection established. Subprocess id is 5980\n",
      "\n"
     ]
    },
    {
     "data": {
      "text/html": [
       "<!DOCTYPE html PUBLIC \"-//W3C//DTD HTML 4.01//EN\"\n",
       "   \"http://www.w3.org/TR/html4/strict.dtd\">\n",
       "\n",
       "<html>\n",
       "<head>\n",
       "  <title></title>\n",
       "  <meta http-equiv=\"content-type\" content=\"text/html; charset=None\">\n",
       "  <style type=\"text/css\">\n",
       "td.linenos { background-color: #f0f0f0; padding-right: 10px; }\n",
       "span.lineno { background-color: #f0f0f0; padding: 0 5px 0 5px; }\n",
       "pre { line-height: 125%; }\n",
       "body .hll { background-color: #ffffcc }\n",
       "body  { background: #ffffff; }\n",
       "body .c { color: #0000FF } /* Comment */\n",
       "body .k { color: #ff0000; font-weight: bold } /* Keyword */\n",
       "body .n { color: #008000 } /* Name */\n",
       "body .ch { color: #0000FF } /* Comment.Hashbang */\n",
       "body .cm { color: #0000FF } /* Comment.Multiline */\n",
       "body .cp { color: #0000FF } /* Comment.Preproc */\n",
       "body .cpf { color: #0000FF } /* Comment.PreprocFile */\n",
       "body .c1 { color: #0000FF } /* Comment.Single */\n",
       "body .cs { color: #0000FF } /* Comment.Special */\n",
       "body .kc { color: #ff0000; font-weight: bold } /* Keyword.Constant */\n",
       "body .kd { color: #ff0000; font-weight: bold } /* Keyword.Declaration */\n",
       "body .kn { color: #ff0000; font-weight: bold } /* Keyword.Namespace */\n",
       "body .kp { color: #ff0000; font-weight: bold } /* Keyword.Pseudo */\n",
       "body .kr { color: #ff0000; font-weight: bold } /* Keyword.Reserved */\n",
       "body .kt { color: #ff0000; font-weight: bold } /* Keyword.Type */\n",
       "body .s { color: #111111 } /* Literal.String */\n",
       "body .na { color: #008000 } /* Name.Attribute */\n",
       "body .nb { color: #008000 } /* Name.Builtin */\n",
       "body .nc { color: #008000 } /* Name.Class */\n",
       "body .no { color: #008000 } /* Name.Constant */\n",
       "body .nd { color: #008000 } /* Name.Decorator */\n",
       "body .ni { color: #008000 } /* Name.Entity */\n",
       "body .ne { color: #008000 } /* Name.Exception */\n",
       "body .nf { color: #008000 } /* Name.Function */\n",
       "body .nl { color: #008000 } /* Name.Label */\n",
       "body .nn { color: #008000 } /* Name.Namespace */\n",
       "body .nx { color: #008000 } /* Name.Other */\n",
       "body .py { color: #008000 } /* Name.Property */\n",
       "body .nt { color: #008000 } /* Name.Tag */\n",
       "body .nv { color: #008000 } /* Name.Variable */\n",
       "body .sb { color: #111111 } /* Literal.String.Backtick */\n",
       "body .sc { color: #111111 } /* Literal.String.Char */\n",
       "body .sd { color: #111111 } /* Literal.String.Doc */\n",
       "body .s2 { color: #111111 } /* Literal.String.Double */\n",
       "body .se { color: #111111 } /* Literal.String.Escape */\n",
       "body .sh { color: #111111 } /* Literal.String.Heredoc */\n",
       "body .si { color: #111111 } /* Literal.String.Interpol */\n",
       "body .sx { color: #111111 } /* Literal.String.Other */\n",
       "body .sr { color: #111111 } /* Literal.String.Regex */\n",
       "body .s1 { color: #111111 } /* Literal.String.Single */\n",
       "body .ss { color: #111111 } /* Literal.String.Symbol */\n",
       "body .bp { color: #008000 } /* Name.Builtin.Pseudo */\n",
       "body .vc { color: #008000 } /* Name.Variable.Class */\n",
       "body .vg { color: #008000 } /* Name.Variable.Global */\n",
       "body .vi { color: #008000 } /* Name.Variable.Instance */\n",
       "\n",
       "  </style>\n",
       "</head>\n",
       "<body>\n",
       "<h2></h2>\n",
       "\n",
       "<div class=\"highlight\"><pre><span></span><span class=\"s\">34   ods listing close;ods html5 (id=saspy_internal) file=stdout options(bitmap_mode=&#39;inline&#39;) device=svg; ods graphics on /</span><br><span class=\"s\">34 ! outputfmt=png;</span><br><span class=\"cm\">NOTE: Writing HTML5(SASPY_INTERNAL) Body file: STDOUT</span><br><span class=\"s\">35   </span><br><span class=\"s\">36   %macro words(string,root=);</span><br><span class=\"s\">37   %*--------------------------------------------------;</span><br><span class=\"s\">38   %* Return number of words in string. If root ^&#39; &#39;,  ;</span><br><span class=\"s\">39   %* then create global variables starting with root. ;</span><br><span class=\"s\">40   %*--------------------------------------------------;</span><br><span class=\"s\">41      %local count word;</span><br><span class=\"s\">42      %let count=1;</span><br><span class=\"s\">43      %let word = %scan(&amp;string,&amp;count,%str( ));</span><br><span class=\"s\">44      %do %while(%quote(&amp;word)^= );</span><br><span class=\"s\">45   \t%*put WORDS: word=&amp;word;</span><br><span class=\"s\">46          %if &amp;root^=  %then %do;</span><br><span class=\"s\">47             %global &amp;root&amp;count;</span><br><span class=\"s\">48             %let &amp;root&amp;count=&amp;word;</span><br><span class=\"s\">49          %end;</span><br><span class=\"s\">50          %let count = %eval(&amp;count+1);</span><br><span class=\"s\">51          %let word = %scan(&amp;string,&amp;count,%str( ));</span><br><span class=\"s\">52      %end;</span><br><span class=\"s\">53      %eval(&amp;count-1)</span><br><span class=\"s\">54   %mend words;</span><br><span class=\"s\">55   %put words() = %words();</span><br><span class=\"err\">words()</span> <span class=\"err\">=</span> <span class=\"err\">0</span><br><span class=\"s\">56   %put words = %words(A B C,root=W);</span><br><span class=\"err\">words</span> <span class=\"err\">=</span> <span class=\"err\">3</span><br><span class=\"s\">57   %put W1= &amp;W1 W2= &amp;W2 W3= &amp;W3 ;</span><br><span class=\"err\">W1=</span> <span class=\"err\">A</span> <span class=\"err\">W2=</span> <span class=\"err\">B</span> <span class=\"err\">W3=</span> <span class=\"err\">C</span><br><span class=\"s\">58   %put words = %words(AA BB CC);</span><br><span class=\"err\">words</span> <span class=\"err\">=</span> <span class=\"err\">3</span><br><span class=\"s\">59   </span><br><span class=\"s\">60   ods html5 (id=saspy_internal) close;ods listing;</span><br><br><span class=\"s\">61   </span><br></pre></div>\n",
       "</body>\n",
       "</html>\n"
      ],
      "text/plain": [
       "<IPython.core.display.HTML object>"
      ]
     },
     "execution_count": 1,
     "metadata": {},
     "output_type": "execute_result"
    }
   ],
   "source": [
    "%macro words(string,root=);\n",
    "%*--------------------------------------------------;\n",
    "%* Return number of words in string. If root ^' ',  ;\n",
    "%* then create global variables starting with root. ;\n",
    "%*--------------------------------------------------;\n",
    "   %local count word;\n",
    "   %let count=1;\n",
    "   %let word = %scan(&string,&count,%str( ));\n",
    "   %do %while(%quote(&word)^= );\n",
    "\t%*put WORDS: word=&word;\n",
    "       %if &root^=  %then %do;\n",
    "          %global &root&count;\n",
    "          %let &root&count=&word;\n",
    "       %end;\n",
    "       %let count = %eval(&count+1);\n",
    "       %let word = %scan(&string,&count,%str( ));\n",
    "   %end;\n",
    "   %eval(&count-1)\n",
    "%mend words;\n",
    "%put words() = %words();\n",
    "%put words = %words(A B C,root=W);\n",
    "%put W1= &W1 W2= &W2 W3= &W3 ;\n",
    "%put words = %words(AA BB CC);"
   ]
  }
 ],
 "metadata": {
  "kernelspec": {
   "display_name": "SAS",
   "language": "sas",
   "name": "sas"
  },
  "language_info": {
   "codemirror_mode": "sas",
   "file_extension": ".sas",
   "mimetype": "text/x-sas",
   "name": "sas"
  }
 },
 "nbformat": 4,
 "nbformat_minor": 2
}
